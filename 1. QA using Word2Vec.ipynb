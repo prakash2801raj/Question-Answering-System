{
  "nbformat": 4,
  "nbformat_minor": 0,
  "metadata": {
    "kernelspec": {
      "display_name": "Python 3",
      "language": "python",
      "name": "python3"
    },
    "language_info": {
      "codemirror_mode": {
        "name": "ipython",
        "version": 3
      },
      "file_extension": ".py",
      "mimetype": "text/x-python",
      "name": "python",
      "nbconvert_exporter": "python",
      "pygments_lexer": "ipython3",
      "version": "3.7.3"
    },
    "colab": {
      "name": "word2vec_baseline.ipynb",
      "provenance": []
    }
  },
  "cells": [
    {
      "cell_type": "code",
      "metadata": {
        "id": "1itJPKIYmnCb"
      },
      "source": [
        "import os\n",
        "import pandas as pd\n",
        "import numpy as np\n",
        "import re\n",
        "import nltk\n",
        "import unicodedata\n",
        "import nltk\n",
        "import gensim\n",
        "import math\n",
        "from sklearn.metrics.pairwise import cosine_similarity\n",
        "from nltk.corpus import stopwords"
      ],
      "execution_count": null,
      "outputs": []
    },
    {
      "cell_type": "code",
      "metadata": {
        "id": "gMhTGstymnCb"
      },
      "source": [
        "df1 = pd.read_csv('./NLP-QuestionAnswerSystem/dataset/S08_question_answer_pairs.txt', sep='\\t')\n",
        "df2 = pd.read_csv('./NLP-QuestionAnswerSystem/dataset/S09_question_answer_pairs.txt', sep='\\t')\n",
        "df3 = pd.read_csv('./NLP-QuestionAnswerSystem/dataset/S10_question_answer_pairs.txt', sep='\\t', encoding = 'ISO-8859-1')\n",
        "frames = [df1, df2, df3]\n",
        "df = pd.concat(frames)\n",
        "\n",
        "def getArticleText(file):\n",
        "  fpath = './NLP-QuestionAnswerSystem/dataset/text_data/'+file+'.txt.clean'\n",
        "  try:\n",
        "    f = open(fpath, 'r')\n",
        "    text = f.read()\n",
        "  except UnicodeDecodeError:\n",
        "    f = open(fpath, 'r', encoding = 'ISO-8859-1')\n",
        "    text = f.read()\n",
        "  return text\n",
        "\n",
        "df = df.dropna(subset=['ArticleFile'])\n",
        "df['ArticleText'] = df['ArticleFile'].apply(lambda x: getArticleText(x))\n",
        "df['ArticleText'] = df['ArticleText'].apply(lambda x: re.sub(r'(\\n)+', '. ', x))\n",
        "df = df.drop(['DifficultyFromQuestioner', 'DifficultyFromAnswerer', 'ArticleFile'], axis='columns')\n",
        "\n",
        "def cleanQuestion(text):\n",
        "  text = str(text)\n",
        "  wnl = nltk.stem.WordNetLemmatizer()\n",
        "  text = text.lower()\n",
        "  words = re.sub(r'[^\\w\\s]', '', text).split()\n",
        "  return \" \".join([word for word in words])\n",
        "\n",
        "def cleanAnswer(text):\n",
        "  text = str(text)\n",
        "  wnl = nltk.stem.WordNetLemmatizer()\n",
        "  text = text.lower()\n",
        "  words = re.sub(r'[^\\w\\s]', '', text).split()\n",
        "  return \" \".join([word for word in words])\n",
        "\n",
        "def cleanText(text):\n",
        "  text = str(text)\n",
        "  wnl = nltk.stem.WordNetLemmatizer()\n",
        "  text = text.lower()\n",
        "  words = re.sub(r'[^\\w\\s\\.\\?]', '', text).split()\n",
        "  return \" \".join([word for word in words])\n",
        "\n",
        "df['Question'] = df['Question'].apply(lambda x: cleanQuestion(x))\n",
        "df['Answer'] = df['Answer'].apply(lambda x: cleanAnswer(x))\n",
        "df['ArticleText'] = df['ArticleText'].apply(lambda x: cleanText(x))"
      ],
      "execution_count": null,
      "outputs": []
    },
    {
      "cell_type": "code",
      "metadata": {
        "id": "CtYR4nVPmnCb"
      },
      "source": [
        "dataset = []\n",
        "title = \"\"\n",
        "for i in range(0, len(df), 2):\n",
        "    this_title = df.iloc[i]['ArticleTitle']\n",
        "    if (this_title!=title):\n",
        "        title = this_title\n",
        "        text = df.iloc[i]['ArticleText']\n",
        "        splitted = text.split(sep='.')\n",
        "        for j in range(len(splitted)):\n",
        "            text = splitted[j]\n",
        "            if(text!=''):\n",
        "                words = text.split()\n",
        "                dataset.append(words)\n",
        "    dataset.append(df.iloc[i]['Question'].split())\n",
        "    dataset.append(df.iloc[i]['Answer'].split())"
      ],
      "execution_count": null,
      "outputs": []
    },
    {
      "cell_type": "code",
      "metadata": {
        "id": "Pz26dUeXmnCc"
      },
      "source": [
        "model = gensim.models.Word2Vec(dataset, size=100, window=8, min_count=1, sg=0, workers=8) # I have 8 cpu cores\n",
        "# sg = {0, 1} – Training algorithm: 1 for skip-gram; otherwise CBOW"
      ],
      "execution_count": null,
      "outputs": []
    },
    {
      "cell_type": "code",
      "metadata": {
        "id": "B7lXXAWImnCc",
        "outputId": "1b3b8bd5-1024-47a9-b228-d9aeb640ddbf"
      },
      "source": [
        "model.train(dataset, total_examples=len(dataset), compute_loss=True, epochs=50)"
      ],
      "execution_count": null,
      "outputs": [
        {
          "output_type": "execute_result",
          "data": {
            "text/plain": [
              "(25700542, 32458150)"
            ]
          },
          "metadata": {
            "tags": []
          },
          "execution_count": 5
        }
      ]
    },
    {
      "cell_type": "code",
      "metadata": {
        "id": "fEpFLCVcmnCd"
      },
      "source": [
        "def get_embedding(sentence):\n",
        "  pos_sum = [0.0 for i in range(100)]\n",
        "  num = 0\n",
        "  words = sentence.split()\n",
        "  for i in words:\n",
        "    try:\n",
        "      embed = model.wv[i]\n",
        "    except:\n",
        "      continue\n",
        "    else:\n",
        "      pos_sum += embed\n",
        "      num +=1\n",
        "  if(num==0):\n",
        "    return pos_sum\n",
        "  else:\n",
        "    pos_sum /= num\n",
        "    return pos_sum\n",
        "\n",
        "def get_answer(question, answer_para):\n",
        "  question_embedding = get_embedding(rem_stop(question))\n",
        "  min_distance = math.inf\n",
        "  answer = 0\n",
        "  for i in range(len(answer_para)):\n",
        "    answer_embedding = get_embedding(rem_stop(answer_para[i]))\n",
        "    distance = np.linalg.norm(question_embedding-answer_embedding)\n",
        "    if (distance < min_distance):\n",
        "      answer = i\n",
        "      # print(answer)\n",
        "      min_distance = distance\n",
        "  return answer_para[answer]\n",
        "\n",
        "def rem_stop(sentence):\n",
        "    strr=''\n",
        "    my_string = sentence.split()\n",
        "    for i in range(len(my_string)):\n",
        "        if my_string[i] not in stopwords.words('english'):\n",
        "            strr = strr+' '+my_string[i]\n",
        "    return strr[1:]\n",
        "\n",
        "def get_answer_cosine(question, answer_para):\n",
        "  question_embedding = get_embedding(rem_stop(question))\n",
        "  max_similarity = -math.inf\n",
        "  answer = 0\n",
        "  for i in range(len(answer_para)):\n",
        "    answer_embedding = get_embedding(rem_stop(answer_para[i]))\n",
        "    similarity = cosine_similarity(np.expand_dims(question_embedding,0), np.expand_dims(answer_embedding,0))\n",
        "    if (similarity > max_similarity):\n",
        "      answer = i\n",
        "      max_similarity = similarity\n",
        "  return answer_para[answer]"
      ],
      "execution_count": null,
      "outputs": []
    },
    {
      "cell_type": "code",
      "metadata": {
        "id": "b7JkHV4UmnCd"
      },
      "source": [
        "index = 296\n",
        "my_text = df.iloc[index]['ArticleText']\n",
        "temp_sentences = my_text.split(sep='.')\n",
        "sentences=[]\n",
        "for i in range(len(temp_sentences)):\n",
        "    if(temp_sentences[i]!=''):\n",
        "        sentences.append(temp_sentences[i])\n",
        "my_question = df.iloc[index]['Question']"
      ],
      "execution_count": null,
      "outputs": []
    },
    {
      "cell_type": "code",
      "metadata": {
        "id": "DBwIDuR3mnCd",
        "outputId": "ba017d02-5cb9-49c4-8594-49ac22b2331d"
      },
      "source": [
        "print(my_question) # Actual Question\n",
        "print(rem_stop(my_question)) # Answer without stopwords\n",
        "print(df.iloc[index]['Answer']) # Actual Answer"
      ],
      "execution_count": null,
      "outputs": [
        {
          "output_type": "stream",
          "text": [
            "what was the consitution act formerly called\n",
            "consitution act formerly called\n",
            "british north america act\n"
          ],
          "name": "stdout"
        }
      ]
    },
    {
      "cell_type": "code",
      "metadata": {
        "id": "H4wJbW8smnCd",
        "outputId": "702ad9ea-1b27-4858-d6e8-4ded7bb5e83d"
      },
      "source": [
        "print(get_answer(my_question, sentences)) # Our model's prediction using euclidean distance\n",
        "print(\"\\n\")\n",
        "print(get_answer_cosine(my_question, sentences)) # Our model's prediction using cosine similarity"
      ],
      "execution_count": null,
      "outputs": [
        {
          "output_type": "stream",
          "text": [
            "0\n",
            "1\n",
            "3\n",
            "6\n",
            "7\n",
            "45\n",
            " to accommodate englishspeaking loyalists in quebec the constitutional act of 1791 divided the province into frenchspeaking lower canada and englishspeaking upper canada granting each their own elected legislative assembly\n",
            "\n",
            "\n",
            " later it was split into two british colonies called upper canada and lower canada until their union as the british province of canada in 1841\n"
          ],
          "name": "stdout"
        }
      ]
    },
    {
      "cell_type": "code",
      "metadata": {
        "id": "IuYSwRVZmnCd"
      },
      "source": [
        ""
      ],
      "execution_count": null,
      "outputs": []
    }
  ]
}